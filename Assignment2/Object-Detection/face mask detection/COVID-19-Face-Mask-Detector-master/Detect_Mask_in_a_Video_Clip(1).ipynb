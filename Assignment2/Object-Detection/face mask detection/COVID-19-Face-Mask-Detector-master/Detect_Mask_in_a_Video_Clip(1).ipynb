{
  "nbformat": 4,
  "nbformat_minor": 0,
  "metadata": {
    "colab": {
      "name": "Detect Mask in a Video Clip.ipynb",
      "provenance": [],
      "collapsed_sections": []
    },
    "kernelspec": {
      "display_name": "Python 3",
      "language": "python",
      "name": "python3"
    },
    "language_info": {
      "codemirror_mode": {
        "name": "ipython",
        "version": 3
      },
      "file_extension": ".py",
      "mimetype": "text/x-python",
      "name": "python",
      "nbconvert_exporter": "python",
      "pygments_lexer": "ipython3",
      "version": "3.6.10"
    }
  },
  "cells": [
    {
      "cell_type": "code",
      "metadata": {
        "colab": {
          "base_uri": "https://localhost:8080/"
        },
        "id": "e_sR6Nudy-QY",
        "outputId": "ecc5f5b6-30a8-4ba9-a808-3c3eabb1a574"
      },
      "source": [
        "import tensorflow as tf\n",
        "import keras\n",
        "from tensorflow.keras.applications.mobilenet_v2 import preprocess_input\n",
        "from tensorflow.keras.preprocessing.image import img_to_array\n",
        "from tensorflow.keras.preprocessing.image import load_img\n",
        "from google.colab.patches import cv2_imshow\n",
        "import numpy as np\n",
        "import argparse\n",
        "import cv2\n",
        "import os\n",
        "import time\n",
        "import matplotlib.pyplot as plt\n",
        "%matplotlib inline\n",
        "print(tf.__version__)"
      ],
      "execution_count": null,
      "outputs": [
        {
          "output_type": "stream",
          "text": [
            "2.5.0\n"
          ],
          "name": "stdout"
        }
      ]
    },
    {
      "cell_type": "markdown",
      "metadata": {
        "id": "ku9b2yyoy-Qk"
      },
      "source": [
        "## Load Model"
      ]
    },
    {
      "cell_type": "code",
      "metadata": {
        "id": "RVjvKFZWy-Qm"
      },
      "source": [
        "model = tf.keras.models.load_model(\"/content/My_Model.h5\")"
      ],
      "execution_count": null,
      "outputs": []
    },
    {
      "cell_type": "markdown",
      "metadata": {
        "id": "5UcNHXTAy-Qo"
      },
      "source": [
        "## Loading face detection classifier"
      ]
    },
    {
      "cell_type": "code",
      "metadata": {
        "id": "DMeatKMey-Qp"
      },
      "source": [
        "face_cascade = cv2.CascadeClassifier('haarcascade_frontalface_default.xml')"
      ],
      "execution_count": null,
      "outputs": []
    },
    {
      "cell_type": "code",
      "metadata": {
        "colab": {
          "background_save": true
        },
        "id": "na9h-rvGy-Qr"
      },
      "source": [
        "from google.colab.patches import cv2_imshow\n",
        "cap = cv2.VideoCapture(\"Mask Detection Test Video.mp4\")\n",
        "\n",
        "width = int(cap.get(cv2.CAP_PROP_FRAME_WIDTH))\n",
        "height = int(cap.get(cv2.CAP_PROP_FRAME_HEIGHT))\n",
        "\n",
        "size = (width, height)\n",
        "#writer = cv2.VideoWriter(\"FaceMask_Detection_Output.mp4\",cv2.VideoWriter_fourcc(*'DIVX'),25,(width,height))\n",
        "writer = cv2.VideoWriter('filename.mp4', cv2.VideoWriter_fourcc(*'MJPG'),10, size)\n",
        "\n",
        "\n",
        "while True:\n",
        "    \n",
        "    ret, img = cap.read()\n",
        "    \n",
        "    if ret == True:\n",
        "        time.sleep(1/25)\n",
        "\n",
        "        gray = cv2.cvtColor(img, cv2.COLOR_RGB2GRAY)\n",
        "        faces = face_cascade.detectMultiScale(gray, 1.3, 8)\n",
        "\n",
        "        for (x, y, w, h) in faces:\n",
        "\n",
        "            face = img[y:y+h, x:x+w]\n",
        "            face = cv2.resize(face, (224, 224))\n",
        "            face = img_to_array(face)\n",
        "            face = preprocess_input(face)\n",
        "            face = np.expand_dims(face, axis=0)\n",
        "            (mask, withoutMask) = model.predict(face)[0]\n",
        "            mask = mask*100\n",
        "            withoutMask = withoutMask*100\n",
        "\n",
        "            font = cv2.FONT_HERSHEY_SIMPLEX\n",
        "\n",
        "            # Getting Text Size in pixel\n",
        "            # print(\"Image Width: \" , w)\n",
        "            textSize = cv2.getTextSize(text=\"No Mask: \" + str(\"%.2f\" % round(mask, 2)), fontFace=cv2.FONT_HERSHEY_SIMPLEX, fontScale=1, thickness=3)\n",
        "            # print(\"Text Width: \" , textSize[0][0])\n",
        "\n",
        "            if mask > withoutMask:\n",
        "                cv2.putText(img,\n",
        "                            text = \"Mask: \" + str(\"%.2f\" % round(mask, 2)),\n",
        "                            org = (x-5,y-20),\n",
        "                            fontFace=font,\n",
        "                            fontScale = (2*w)/textSize[0][0],\n",
        "                            color = (0, 255, 0),\n",
        "                            thickness = 3,\n",
        "                            lineType = cv2.LINE_AA)\n",
        "                cv2.rectangle(img, (x, y), (x+w, y+h), (0,255,0), 5)\n",
        "            else:\n",
        "                cv2.putText(img,\n",
        "                            text = \"No Mask: \" + str(\"%.2f\" % round(withoutMask, 2)),\n",
        "                            org = (x-5,y-20),\n",
        "                            fontFace=font,\n",
        "                            fontScale = (1.8*w)/textSize[0][0],\n",
        "                            color = (0, 0, 255),\n",
        "                            thickness = 3,\n",
        "                            lineType = cv2.LINE_AA)\n",
        "                cv2.rectangle(img, (x, y), (x+w, y+h), (0, 0, 255), 5)\n",
        "        \n",
        "        # Storing Recorded File\n",
        "        writer.write(img)\n",
        "        \n",
        "        # Display    \n",
        "        cv2_imshow(img)\n",
        "\n",
        "        if cv2.waitKey(1) & 0XFF == ord('q'):\n",
        "            break\n",
        "    else:\n",
        "        break\n",
        "        \n",
        "cap.release()\n",
        "writer.release()\n",
        "cv2.destroyAllWindows()"
      ],
      "execution_count": null,
      "outputs": []
    },
    {
      "cell_type": "code",
      "metadata": {
        "id": "vFu2mWmty-Qu"
      },
      "source": [
        ""
      ],
      "execution_count": null,
      "outputs": []
    },
    {
      "cell_type": "markdown",
      "metadata": {
        "id": "PyZ6vJYhBcYV"
      },
      "source": [
        ""
      ]
    },
    {
      "cell_type": "code",
      "metadata": {
        "id": "2stP8lqfy-Qu"
      },
      "source": [
        ""
      ],
      "execution_count": null,
      "outputs": []
    }
  ]
}